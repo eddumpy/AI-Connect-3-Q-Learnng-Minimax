{
 "cells": [
  {
   "cell_type": "markdown",
   "metadata": {},
   "source": [
    "# Connect Three \n",
    "\n",
    "The primary description of this coursework is available on the CM20252 Moodle page. This is the Jupyter notebook you must complete and submit to receive marks. This notebook adds additional detail to the coursework specification but does not repeat the information that has already been provided there. \n",
    "\n",
    "You must follow all instructions given in this notebook precisely.\n",
    "\n",
    "Restart the kernel and run all cells before submitting the notebook. This will guarantee that we will be able to run your code for testing. Remember to save your work regularly.\n",
    "\n",
    "__You will develop players for Connect-Three on a grid that is 5 columns wide and 3 rows high. An example is shown below showing a win for Player Red.__\n",
    "\n",
    "<img src=\"images/connect3.png\" style=\"width: 200px;\"/>"
   ]
  },
  {
   "cell_type": "markdown",
   "metadata": {},
   "source": [
    "## Preliminaries\n",
    "\n",
    "For your reference, below is a visual depiction of the agent-environment interface in reinforcment learning. The interaction of the agent with its environments starts at decision stage $t=0$ with the observation of the current state $s_0$. (Notice that there is no reward at this initial stage.) The agent then chooses an action to execute at decision stage $t=1$. The environment responds by changing its state to $s_1$ and returning the numerical reward signal $r_1$. \n",
    "\n",
    "<img src=\"images/agent-environment.png\" style=\"width: 500px;\"/>\n",
    "\n",
    "<br><br><br>\n",
    "\n",
    "Below, we provide some code that will be useful for implementing parts of this interface. You are not obligated to use this code; please feel free to develop your own code from scratch. \n",
    "\n",
    "### Code details\n",
    "\n",
    "We provide a `Connect` class that you can use to simulate Connect-Three games. The following cells in this section will walk you through the basic usage of this class by playing a couple of games.\n",
    "\n",
    "We import the `connect` module and create a Connect-Three environmnet called `env`. The constructor method has one argument called `verbose`. If `verbose=True`, the `Connect` object will regularly print the progress of the game. This is useful for getting to know the provided code, debugging your code, or if you just want to play around. You will want to set `verbose=False` when you run hundreds of episodes to complete the marked exercises.\n",
    "\n",
    "This `Connect` environment uses the strings `'o'` and `'x'` instead of different disk colors in order to distuingish between the two players.\n",
    "\n",
    "Before we start a game, we should call the `reset()` method. This method cleans the board and resets other state variables. The `first_player` argument can be specified (`'o'` or `'x'`) to deterministically choose the starting player. It defaults to `\"random\"`, in which case each player starts the game with probability of $\\frac{1}{2}$."
   ]
  },
  {
   "cell_type": "code",
   "execution_count": 162,
   "metadata": {},
   "outputs": [
    {
     "name": "stdout",
     "output_type": "stream",
     "text": [
      "Game has been reset.\n",
      "[[' ' ' ' ' ' ' ' ' ']\n",
      " [' ' ' ' ' ' ' ' ' ']\n",
      " [' ' ' ' ' ' ' ' ' ']]\n"
     ]
    }
   ],
   "source": [
    "import connect\n",
    "env = connect.Connect(verbose=True)\n",
    "env.reset(first_player='o')"
   ]
  },
  {
   "cell_type": "markdown",
   "metadata": {},
   "source": [
    "We can interact with the environment using the `act()` method. This method takes an `action` as input and computes the response of the environment. An action is defined as the column index that a disk is dropped into."
   ]
  },
  {
   "cell_type": "code",
   "execution_count": 163,
   "metadata": {},
   "outputs": [
    {
     "name": "stdout",
     "output_type": "stream",
     "text": [
      "[[' ' ' ' ' ' ' ' ' ']\n",
      " [' ' ' ' ' ' ' ' ' ']\n",
      " [' ' ' ' 'o' ' ' ' ']]\n"
     ]
    }
   ],
   "source": [
    "env.act(action=2)"
   ]
  },
  {
   "cell_type": "markdown",
   "metadata": {},
   "source": [
    "The `act()` method inserts a disk into the specified column. \n",
    "\n",
    "If we want to change the player on move, we can do so by using the `change_turn()` method. We can check whose turn it is by accessing the `.player_at_turn` attribute."
   ]
  },
  {
   "cell_type": "code",
   "execution_count": 164,
   "metadata": {
    "scrolled": true
   },
   "outputs": [
    {
     "name": "stdout",
     "output_type": "stream",
     "text": [
      "Current player at turn: o\n",
      "Current player at turn: x\n",
      "[[' ' ' ' ' ' ' ' ' ']\n",
      " [' ' ' ' 'x' ' ' ' ']\n",
      " [' ' ' ' 'o' ' ' ' ']]\n"
     ]
    }
   ],
   "source": [
    "print(\"Current player at turn:\", env.player_at_turn)\n",
    "env.change_turn()\n",
    "print(\"Current player at turn:\", env.player_at_turn)\n",
    "\n",
    "# Drop another disk into the same centre column.\n",
    "env.act(action=2)"
   ]
  },
  {
   "cell_type": "markdown",
   "metadata": {},
   "source": [
    "Because we set `verbose=True`, the grid is printed each time we call the `act()` method. This grid is stored as a two-dimensional numpy array in the connect class and you can easily access by calling..."
   ]
  },
  {
   "cell_type": "code",
   "execution_count": 165,
   "metadata": {},
   "outputs": [
    {
     "name": "stdout",
     "output_type": "stream",
     "text": [
      "[[' ' ' ' 'o' ' ' ' ']\n",
      " [' ' ' ' 'x' ' ' ' ']\n",
      " [' ' ' ' ' ' ' ' ' ']]\n"
     ]
    }
   ],
   "source": [
    "current_grid = env.grid\n",
    "print(current_grid)\n",
    "# Notice that the grid now appears to be \"upside down\" because numpy arrays are printed from \"top to bottom\"."
   ]
  },
  {
   "cell_type": "code",
   "execution_count": 166,
   "metadata": {},
   "outputs": [
    {
     "name": "stdout",
     "output_type": "stream",
     "text": [
      "[[' ' ' ' 'o' ' ' ' ']\n",
      " [' ' ' ' 'x' ' ' ' ']\n",
      " [' ' ' ' 'o' ' ' ' ']]\n"
     ]
    }
   ],
   "source": [
    "# Let's make another move.\n",
    "env.change_turn()\n",
    "env.act(action=2)"
   ]
  },
  {
   "cell_type": "markdown",
   "metadata": {},
   "source": [
    "If we make another move with `act(action=2)`, the environment will throw an error because that column is already filled."
   ]
  },
  {
   "cell_type": "code",
   "execution_count": 167,
   "metadata": {},
   "outputs": [
    {
     "ename": "IndexError",
     "evalue": "index 3 is out of bounds for axis 0 with size 3",
     "output_type": "error",
     "traceback": [
      "\u001b[0;31m---------------------------------------------------------------------------\u001b[0m",
      "\u001b[0;31mIndexError\u001b[0m                                Traceback (most recent call last)",
      "\u001b[0;32m<ipython-input-167-3460a887c4c5>\u001b[0m in \u001b[0;36m<module>\u001b[0;34m()\u001b[0m\n\u001b[1;32m      1\u001b[0m \u001b[0;31m# This cell should throw an error!\u001b[0m\u001b[0;34m\u001b[0m\u001b[0;34m\u001b[0m\u001b[0m\n\u001b[1;32m      2\u001b[0m \u001b[0menv\u001b[0m\u001b[0;34m.\u001b[0m\u001b[0mchange_turn\u001b[0m\u001b[0;34m(\u001b[0m\u001b[0;34m)\u001b[0m\u001b[0;34m\u001b[0m\u001b[0m\n\u001b[0;32m----> 3\u001b[0;31m \u001b[0menv\u001b[0m\u001b[0;34m.\u001b[0m\u001b[0mact\u001b[0m\u001b[0;34m(\u001b[0m\u001b[0maction\u001b[0m\u001b[0;34m=\u001b[0m\u001b[0;36m2\u001b[0m\u001b[0;34m)\u001b[0m\u001b[0;34m\u001b[0m\u001b[0m\n\u001b[0m",
      "\u001b[0;32m~/Jupyter Notebook/aic2_three_connect/connect.py\u001b[0m in \u001b[0;36mact\u001b[0;34m(self, action)\u001b[0m\n\u001b[1;32m     50\u001b[0m         \u001b[0;34m:\u001b[0m\u001b[0mparam\u001b[0m \u001b[0maction\u001b[0m\u001b[0;34m:\u001b[0m \u001b[0man\u001b[0m \u001b[0minteger\u001b[0m \u001b[0mreferring\u001b[0m \u001b[0mto\u001b[0m \u001b[0mthe\u001b[0m \u001b[0mcolumn\u001b[0m \u001b[0mindex\u001b[0m \u001b[0mwhere\u001b[0m \u001b[0ma\u001b[0m \u001b[0mnew\u001b[0m \u001b[0mtoken\u001b[0m\u001b[0;34m/\u001b[0m\u001b[0mdisk\u001b[0m \u001b[0mshould\u001b[0m \u001b[0mbe\u001b[0m \u001b[0mdropped\u001b[0m\u001b[0;34m\u001b[0m\u001b[0m\n\u001b[1;32m     51\u001b[0m         \"\"\"\n\u001b[0;32m---> 52\u001b[0;31m         \u001b[0mself\u001b[0m\u001b[0;34m.\u001b[0m\u001b[0mgrid\u001b[0m\u001b[0;34m[\u001b[0m\u001b[0mself\u001b[0m\u001b[0;34m.\u001b[0m\u001b[0mlowest_free_rows\u001b[0m\u001b[0;34m[\u001b[0m\u001b[0maction\u001b[0m\u001b[0;34m]\u001b[0m\u001b[0;34m,\u001b[0m \u001b[0maction\u001b[0m\u001b[0;34m]\u001b[0m \u001b[0;34m=\u001b[0m \u001b[0mself\u001b[0m\u001b[0;34m.\u001b[0m\u001b[0mplayer_at_turn\u001b[0m\u001b[0;34m\u001b[0m\u001b[0m\n\u001b[0m\u001b[1;32m     53\u001b[0m         \u001b[0mself\u001b[0m\u001b[0;34m.\u001b[0m\u001b[0mlowest_free_rows\u001b[0m\u001b[0;34m[\u001b[0m\u001b[0maction\u001b[0m\u001b[0;34m]\u001b[0m \u001b[0;34m+=\u001b[0m \u001b[0;36m1\u001b[0m\u001b[0;34m\u001b[0m\u001b[0m\n\u001b[1;32m     54\u001b[0m         \u001b[0;32mif\u001b[0m \u001b[0mself\u001b[0m\u001b[0;34m.\u001b[0m\u001b[0mlowest_free_rows\u001b[0m\u001b[0;34m[\u001b[0m\u001b[0maction\u001b[0m\u001b[0;34m]\u001b[0m \u001b[0;34m==\u001b[0m \u001b[0mself\u001b[0m\u001b[0;34m.\u001b[0m\u001b[0mnum_rows\u001b[0m\u001b[0;34m:\u001b[0m\u001b[0;34m\u001b[0m\u001b[0m\n",
      "\u001b[0;31mIndexError\u001b[0m: index 3 is out of bounds for axis 0 with size 3"
     ]
    }
   ],
   "source": [
    "# This cell should throw an error!\n",
    "env.change_turn()\n",
    "env.act(action=2)"
   ]
  },
  {
   "cell_type": "markdown",
   "metadata": {},
   "source": [
    "The attribute `.available_actions` contains a numpy array of all not yet filled columns."
   ]
  },
  {
   "cell_type": "code",
   "execution_count": 168,
   "metadata": {},
   "outputs": [
    {
     "name": "stdout",
     "output_type": "stream",
     "text": [
      "[0 1 3 4]\n"
     ]
    }
   ],
   "source": [
    "print(env.available_actions)\n",
    "# Column index '2' is missing because this column is already filled"
   ]
  },
  {
   "cell_type": "markdown",
   "metadata": {},
   "source": [
    "The `Connect` class contains a method called `was_winning_move()` that checks whether the last move won the game (returns `True`) or not (returns `False`). "
   ]
  },
  {
   "cell_type": "code",
   "execution_count": 169,
   "metadata": {},
   "outputs": [
    {
     "name": "stdout",
     "output_type": "stream",
     "text": [
      "Winning move? False\n",
      "[[' ' ' ' 'o' ' ' ' ']\n",
      " [' ' ' ' 'x' ' ' ' ']\n",
      " [' ' ' ' 'o' 'x' ' ']]\n",
      "[[' ' ' ' 'o' ' ' ' ']\n",
      " [' ' ' ' 'x' ' ' ' ']\n",
      " [' ' 'o' 'o' 'x' ' ']]\n",
      "[[' ' ' ' 'o' ' ' ' ']\n",
      " [' ' ' ' 'x' 'x' ' ']\n",
      " [' ' 'o' 'o' 'x' ' ']]\n",
      "[[' ' ' ' 'o' ' ' ' ']\n",
      " [' ' ' ' 'x' 'x' ' ']\n",
      " ['o' 'o' 'o' 'x' ' ']]\n",
      "Player ' o ' has won the game!\n",
      "Winning move? True\n"
     ]
    }
   ],
   "source": [
    "# Obviously the game has not yet been won by any player.\n",
    "print(\"Winning move?\", env.was_winning_move()) \n",
    "\n",
    "# Make some moves\n",
    "env.act(action=3)\n",
    "env.change_turn()\n",
    "env.act(action=1)\n",
    "env.change_turn()\n",
    "env.act(action=3)\n",
    "env.change_turn()\n",
    "env.act(action=0)\n",
    "\n",
    "# Check again whether a player has won the game.\n",
    "print(\"Winning move?\", env.was_winning_move()) "
   ]
  },
  {
   "cell_type": "markdown",
   "metadata": {},
   "source": [
    "Finally, the `Connect` class contains a method called `grid_is_full()` that checks whether the grid still contains empty slots. You can use this method to check whether the game is a draw.\n",
    "\n",
    "Feel free to modify existing or add new methods to the `Connect` class."
   ]
  },
  {
   "cell_type": "markdown",
   "metadata": {},
   "source": [
    "## Part 1: Q-learning\n",
    "\n",
    "Your opponent is always the first player. Your agent is always the second player.\n",
    "\n",
    "For your reference, the pseudo-code for Q-learning is reproduced below from the textbook (Reinforcement Learning, Sutton & Barto, 1998, Section 6.5).\n",
    "<img src=\"images/q_learning.png\" style=\"width: 600px;\"/>\n",
    "\n",
    "Prepare a **learning curve** following the directions below. We refer to this as Plot 1.\n",
    "\n",
    "After $n$ steps of interaction with the environment, play $m$ games with the current policy of the agent (without modifying the policy). Think of this as interrupting the agent for a period of time to test how well it has learned so far. Your plot should show the total score obtained in these $m$ games as a function of $n, 2n, 3n, … kn$. The choices of $n$ and $k$ are up to you. They should be reasonable values that demonstrate the efficiency of the learning and how well the agent learns to play the game eventually. Use $m=10$. \n",
    "\n",
    "This plot should show the mean performance of $a$ agents, not the performance of a single agent. Because of the stochasticity in the environment, you will obtain two different learning curves from two different agents even though they are using exactly the same algorithm. We suggest setting $a$ to 30 or higher.\n",
    "\n",
    "Present a single mean learning curve with your choice of parameters $\\epsilon$ and $\\alpha$. The plot should also show (as a baseline) the mean performance of a random agent that does not learn but chooses actions uniformly randomly from among the legal actions. Label this line “Random Agent”. \n",
    "\n",
    "Please include this plot as a static figure in the appropriate cell below. You can look at the source code of this markdown cell to find out how to embed figures using html or you can use drag & drop. If you link to locally stored images, make sure to include those in your submission."
   ]
  },
  {
   "cell_type": "code",
   "execution_count": 170,
   "metadata": {
    "deletable": false,
    "nbgrader": {
     "checksum": "1431aa87b9e9019a4dbe6e696e0a9082",
     "grade": true,
     "grade_id": "cell-3ac2114f764e8410",
     "locked": false,
     "points": 0,
     "schema_version": 1,
     "solution": true
    }
   },
   "outputs": [],
   "source": [
    "import connect\n",
    "import numpy as np\n",
    "import random as r\n",
    "import matplotlib.pyplot as plt\n",
    "%matplotlib inline\n",
    "\n",
    "\n",
    "class RandomAgent:\n",
    "    \n",
    "    def __init__(self, env):\n",
    "        self.env = env\n",
    "        self.cumulative_reward = 0\n",
    "    \n",
    "    def choose_action(self):\n",
    "        \"\"\"Chooses action randomly for random agent\"\"\"\n",
    "        actions = self.env.available_actions\n",
    "        action = r.choice(actions)\n",
    "        return action\n",
    "\n",
    "    \n",
    "class QAgent:\n",
    "    \n",
    "    def __init__(self, env, epsilon=0.05, alpha=0.2, gamma=1):\n",
    "        self.env = env\n",
    "        self.epsilon = epsilon\n",
    "        self.alpha = alpha\n",
    "        self.gamma = gamma\n",
    "        \n",
    "        # Init Q table\n",
    "        self.Q = {}\n",
    "        \n",
    "        # Default last state action value \n",
    "        self.last_state_action = 0.0\n",
    "        \n",
    "    def choose_action(self, state):\n",
    "        \"\"\"Chooses action based on Q Learning policy, from Q table\"\"\"\n",
    "        state = tuple(state.flatten())\n",
    "        actions = self.env.available_actions\n",
    "        if np.random.uniform(0, 1) < self.epsilon:\n",
    "            action = r.choice(actions)\n",
    "            return action\n",
    "        else:\n",
    "            q_vals = self.get_q_values(state, actions)     \n",
    "            max_q = max(q_vals)\n",
    "\n",
    "        if q_vals.count(max_q) > 1:\n",
    "            indexes = []\n",
    "            for q in q_vals:\n",
    "                if q == max_q:\n",
    "                    indexes.append(q_vals.index(q))\n",
    "            i = r.choice(indexes)\n",
    "        else:\n",
    "            i = q_vals.index(max_q)\n",
    "        \n",
    "        self.last_state_action = self.Q[(state, actions[i])]\n",
    "        return actions[i]\n",
    "    \n",
    "    def learn(self, state, state_prime, action, reward):\n",
    "        \"\"\"Learning function so Q agent is able to learn\"\"\"\n",
    "        # Flatten states and makes them a tuple.\n",
    "        state = tuple(state.flatten())\n",
    "        state_prime = tuple(state_prime.flatten())\n",
    "        actions = self.env.available_actions\n",
    "        \n",
    "        # Gets q values of state prime.\n",
    "        q_vals_state_prime = self.get_q_values(state_prime, actions)\n",
    "\n",
    "        # If q values contain <1 max_q's it will choose between them.\n",
    "        if q_vals_state_prime:\n",
    "            max_q = max(q_vals_state_prime)\n",
    "        else:\n",
    "            max_q = 0.0\n",
    "            \n",
    "        # Update q table.\n",
    "        self.Q[(state, action)] = self.last_state_action + self.alpha * (reward + (self.gamma * max_q) - self.last_state_action)\n",
    "\n",
    "    def get_q_values(self, state, actions):\n",
    "        \"\"\"Gets q values for state and set of actions.\"\"\"\n",
    "        q_values = []\n",
    "        for action in actions:\n",
    "            q_value = self.get_Q(state, action)\n",
    "            q_values.append(q_value)\n",
    "        return q_values\n",
    "    \n",
    "    def get_Q(self, s, a):\n",
    "        \"\"\"Return q value from q table, given a state and action\"\"\"\n",
    "        if self.Q.get((s, a)) == None:\n",
    "            self.Q[(s, a)] = 0.0\n",
    "        return self.Q.get((s, a))"
   ]
  },
  {
   "cell_type": "code",
   "execution_count": 171,
   "metadata": {},
   "outputs": [],
   "source": [
    "def policy_value(q_table, learn=True, episodes=10):\n",
    "    \"\"\"Function performs 10 episodes, and returns current policy value\"\"\"\n",
    "    \n",
    "    temp_env = connect.Connect(verbose=False)\n",
    "    r_agent = RandomAgent(temp_env)\n",
    "    total_reward = []\n",
    "    \n",
    "    if learn:\n",
    "        q_agent = QAgent(temp_env, epsilon=0.0)\n",
    "        q_agent.Q = q_table\n",
    "    else: \n",
    "        q_agent = QAgent(temp_env, epsilon=1.0)\n",
    "    \n",
    "    for episode in range(0, episodes):\n",
    "        temp_env.reset(first_player='o')\n",
    "        temp_env.act(r_agent.choose_action())\n",
    "        \n",
    "        finished = False\n",
    "        \n",
    "        while not finished:\n",
    "            temp_env.change_turn()\n",
    "            state = np.copy(temp_env.grid)\n",
    "            action = q_agent.choose_action(state)\n",
    "            temp_env.act(action)\n",
    "            if temp_env.was_winning_move():\n",
    "                reward = 1\n",
    "                finished = True\n",
    "            elif temp_env.grid_is_full():\n",
    "                reward = 0\n",
    "                finished = True\n",
    "            else:\n",
    "                temp_env.change_turn()\n",
    "                r_action = r_agent.choose_action()\n",
    "                temp_env.act(r_action)\n",
    "                if temp_env.was_winning_move():\n",
    "                    reward = -1\n",
    "                    finished = True\n",
    "                elif temp_env.grid_is_full():\n",
    "                    reward = 0\n",
    "                    finished = True\n",
    "        total_reward.append(reward)\n",
    "    return sum(total_reward)"
   ]
  },
  {
   "cell_type": "code",
   "execution_count": 174,
   "metadata": {},
   "outputs": [],
   "source": [
    "def play(env, n, total_steps=90000, learn=True):\n",
    "    \"\"\"Main game function, with default 90,000 steps\"\"\"\n",
    "    \n",
    "    # Inits players.\n",
    "    r_agent = RandomAgent(env)\n",
    "    q_agent = QAgent(env)\n",
    "    \n",
    "    if not learn:\n",
    "        q_agent.epsilon = 1.0\n",
    "    \n",
    "    # Collects cumulative reward over time.\n",
    "    cumulative_reward = []\n",
    "    \n",
    "    # Initialises games before loop.\n",
    "    env.reset(first_player='o')\n",
    "    env.act(r_agent.choose_action())\n",
    "    \n",
    "    for step in range(1, total_steps):\n",
    "        if step % n == 0 or step == 1:  \n",
    "            temp_q_table = dict(q_agent.Q)\n",
    "            rewards = policy_value(temp_q_table, learn)\n",
    "            cumulative_reward.append(rewards)\n",
    "            env.reset(first_player='o')\n",
    "            env.act(r_agent.choose_action())\n",
    "\n",
    "        initial_state = np.copy(env.grid)\n",
    "        env.change_turn()\n",
    "        action = q_agent.choose_action(initial_state)\n",
    "        env.act(action)\n",
    "        new_state = np.copy(env.grid)\n",
    "        \n",
    "        if env.was_winning_move():\n",
    "            reward = 1\n",
    "            if learn:\n",
    "                q_agent.learn(initial_state, new_state, action, reward)\n",
    "            env.reset(first_player='o')\n",
    "            env.act(r_agent.choose_action())\n",
    "        elif env.grid_is_full():\n",
    "            reward = 0\n",
    "            if learn:\n",
    "                q_agent.learn(initial_state, new_state, action, reward)\n",
    "            env.reset(first_player='o')\n",
    "            env.act(r_agent.choose_action())\n",
    "        else:\n",
    "            env.change_turn()\n",
    "            r_action = r_agent.choose_action()\n",
    "            env.act(r_action)\n",
    "            new_state = np.copy(env.grid)\n",
    "            if env.was_winning_move():\n",
    "                reward = -1\n",
    "                if learn:\n",
    "                    q_agent.learn(initial_state, new_state, action, reward)\n",
    "                env.reset(first_player='o')\n",
    "                env.act(r_agent.choose_action())\n",
    "            elif env.grid_is_full():\n",
    "                reward = 0\n",
    "                if learn:\n",
    "                    q_agent.learn(initial_state, new_state, action, reward)\n",
    "                env.reset(first_player='o')\n",
    "                env.act(r_agent.choose_action())\n",
    "            else:\n",
    "                reward = 0\n",
    "                if learn:\n",
    "                    q_agent.learn(initial_state, new_state, action, reward)\n",
    "    return cumulative_reward"
   ]
  },
  {
   "cell_type": "code",
   "execution_count": 175,
   "metadata": {},
   "outputs": [],
   "source": [
    "# Run cell to output the average rewards of 30 QAgents\n",
    "lines = []\n",
    "for i in range(0, 30):\n",
    "    env = connect.Connect(verbose=False)\n",
    "    line = play(env, n=1000, total_steps=75000)\n",
    "    lines.append(line)\n",
    "\n",
    "q_avg_line = []\n",
    "for j in range(0, len(line)):\n",
    "    avg = 0\n",
    "    for line in lines:\n",
    "        avg += line[j]\n",
    "    avg = avg / len(lines)\n",
    "    q_avg_line.append(avg) "
   ]
  },
  {
   "cell_type": "code",
   "execution_count": 176,
   "metadata": {},
   "outputs": [],
   "source": [
    "# Run cell to output the average rewards of 30 RandomAgents\n",
    "lines = []\n",
    "for i in range(0, 30):\n",
    "    env = connect.Connect(verbose=False)\n",
    "    line = play(env, n=1000, total_steps=75000, learn=False)\n",
    "    lines.append(line)\n",
    "\n",
    "r_avg_line = []\n",
    "for j in range(0, len(line)):\n",
    "    avg = 0\n",
    "    for line in lines:\n",
    "        avg += line[j]\n",
    "    avg = avg / len(lines)\n",
    "    r_avg_line.append(avg) "
   ]
  },
  {
   "cell_type": "code",
   "execution_count": 178,
   "metadata": {},
   "outputs": [
    {
     "data": {
      "image/png": "[encoded data removed]",
      "text/plain": [
       "<matplotlib.figure.Figure at 0x115416860>"
      ]
     },
     "metadata": {},
     "output_type": "display_data"
    }
   ],
   "source": [
    "\"\"\"Cell is used to plot the graph of 30 Q-Agents and random Agents. \n",
    "   Cell must be run after the above 2 cells have also been run \"\"\"\n",
    "x = np.arange(1, len(q_avg_line) + 1)\n",
    "fig, (ax2) = plt.subplots(1,1)\n",
    "ax2.plot(x, q_avg_line, color=\"red\", label=\"Q Agent\")\n",
    "ax2.plot(x, r_avg_line, color=\"green\", label=\"Random Agent\")\n",
    "ax2.set_title(\"Plot 1: 30 QAgents vs 30 Random Agents\")\n",
    "ax2.set_xlabel('Steps / n')\n",
    "ax2.set_ylabel('Average total reward' )\n",
    "\n",
    "plt.legend()\n",
    "plt.show()"
   ]
  },
  {
   "cell_type": "markdown",
   "metadata": {
    "deletable": false,
    "nbgrader": {
     "checksum": "34a84d16a71c19e759cb0afc7b41bbbc",
     "grade": true,
     "grade_id": "cell-ce1405b859519f91",
     "locked": false,
     "points": 30,
     "schema_version": 1,
     "solution": true
    }
   },
   "source": [
    "(A) [continued} Insert your static learning curve here (Plot 1).\n",
    "\n",
    "<img src=\"images/qvsr.png\" style=\"width: 300px;\"/>\n",
    "\n",
    "(B) In 3 sentences or less, explain your conclusions from the plot above. How close does your (average) agent get to the best possible level of performance? How efficiently does your (average) agent learn? \n",
    "\n",
    "My Q agent levels out at an average score of 7, after completing the 90000 steps with the environment. Despite the Q agents ability to learn, it is disadvantages slightly by the fact that the the opposing agent always goes first. This is why the Random agent has an average of -2/-4. \n",
    "\n",
    "(C) In five sentences or less, explain the key aspects of your implementation. How many state-action pairs do you represent in your Q-table? Describe and justify your settings of $\\alpha$ and $\\epsilon$. Are there any things you tried out that are not in your final implementation?\n",
    "\n",
    "To implement the Q table I used a dictionary, and the keys consisted of a tuple containing the flattened numpy array and the action. Everytime the agent came across a new state it had not seen before, it was saved to the Q table with an initial value of 0. I originally gave alpha a value of 0.1, however changed it to a value of 0.2 as updating the Q value with more information from the environment proved it to learn better. I gave epsilon a value of 0.05 as this meant an exploratoy move was taken on average 1/20 moves, which proved to be a good amount. I was going to implement a decaying epsilon value as the agent learnt more, so it would not be negatively effected by a random move after it had learnt a certain amount. However, I did not implement this because I felt the Agent needed to learn for a longer period of time than the amount given, before it would benefit from not taking exploratory moves.\n",
    "\n",
    "(D) In the cell below, make it possible for us to produce from scratch a learning curve similar to Plot 1 but for a single agent, for a $k$ value of your own choosing. You do not need to include the baseline for random play.  This code should run in less than 30 seconds (ours runs in 2 seconds). \n"
   ]
  },
  {
   "cell_type": "code",
   "execution_count": 196,
   "metadata": {
    "deletable": false,
    "nbgrader": {
     "checksum": "e65915a61d304027e4fbd2e714c4beba",
     "grade": true,
     "grade_id": "cell-e0e01e05236aee45",
     "locked": false,
     "points": 40,
     "schema_version": 1,
     "solution": true
    }
   },
   "outputs": [
    {
     "name": "stdout",
     "output_type": "stream",
     "text": [
      "Elapsed time:  24.149571000001743\n"
     ]
    },
    {
     "data": {
      "image/png": "[encoded data removed]",
      "text/plain": [
       "<matplotlib.figure.Figure at 0x125428b70>"
      ]
     },
     "metadata": {},
     "output_type": "display_data"
    }
   ],
   "source": [
    "# Run cell to return average rewards of 1 QAgent and the time it takes to compute it. \n",
    "import time\n",
    "\n",
    "t = time.process_time()\n",
    "env = connect.Connect(verbose=False)\n",
    "q_line = play(env, n=1000, total_steps=60000)\n",
    "elapsed_time = time.process_time() - t\n",
    "print(\"Elapsed time: \", elapsed_time)\n",
    "\n",
    "# Plots rewards.\n",
    "x = np.arange(0, len(q_line))\n",
    "plt.plot(x, q_line, label=\"QAgent\")\n",
    "plt.title(\"Single Q Agent\")\n",
    "plt.xlabel(\"Steps / n\")\n",
    "plt.ylabel(\"Average reward\")\n",
    "plt.legend()\n",
    "plt.show()"
   ]
  },
  {
   "cell_type": "markdown",
   "metadata": {},
   "source": [
    "## Part 2A\n",
    " \n",
    "Using the minimax policy you computed, answer the following question: The first player (Player 1) drops his/her first disk into column 2 (counting from the left). Consider the resulting state, shown in the following code cell. "
   ]
  },
  {
   "cell_type": "code",
   "execution_count": null,
   "metadata": {},
   "outputs": [],
   "source": [
    "env = connect.Connect(verbose=False)\n",
    "env.reset(first_player='o')\n",
    "env.act(action=1)\n",
    "print(env.grid[::-1])"
   ]
  },
  {
   "cell_type": "markdown",
   "metadata": {},
   "source": [
    "What is the Minimax Value of this state for Player 2? That is, assuming an optimal opponent, does the Minimax Policy expect to win the game (value = 1), lose the game (value = –1), or end the game in a draw (value = 0)? Please state your answer as a number.    \n",
    "\n",
    "* The code cell below should compute this value and assign it to a variable called `state_value`.\n",
    "* Count the number of branches of the game tree that were examined and assign this number to a variable called `num_branches`."
   ]
  },
  {
   "cell_type": "code",
   "execution_count": 186,
   "metadata": {
    "deletable": false,
    "nbgrader": {
     "checksum": "7b00948d6cc98e71a2f9467263067bc0",
     "grade": false,
     "grade_id": "cell-9e3a2a1bebc09565",
     "locked": false,
     "schema_version": 1,
     "solution": true
    },
    "scrolled": true
   },
   "outputs": [],
   "source": [
    "import copy\n",
    "import random\n",
    "import time\n",
    "\n",
    "class Minimax:\n",
    "    \n",
    "    def __init__(self):\n",
    "        self.branches = -1 # set to -1 so it does not count for first call of function.\n",
    "        self.tree = {}\n",
    "        \n",
    "    def make_move(self, env, action):\n",
    "        '''Gets next state of the game'''\n",
    "        env.act(action)   \n",
    "        return env\n",
    "    \n",
    "    def get_index(self, utilities):\n",
    "        \"\"\"Get index of max utility\"\"\"\n",
    "        max_util = max(utilities)    \n",
    "        if utilities.count(max_util) > 1:\n",
    "            indexes = []\n",
    "            n = 0\n",
    "            for util in utilities:\n",
    "                if util == max_util:\n",
    "                    indexes.append(n)\n",
    "                n += 1\n",
    "            i = random.choice(indexes)\n",
    "        else:\n",
    "            i = utilities.index(max_util)\n",
    "        return i\n",
    "    \n",
    "    def choose_action(self, e):\n",
    "        \"\"\"Chooses an action based on minimax policy\"\"\"\n",
    "        env = copy.deepcopy(e)\n",
    "        actions = env.available_actions\n",
    "        utilities = []\n",
    "        for action in actions:\n",
    "            current_env = copy.deepcopy(env)\n",
    "            next_env = self.make_move(current_env, action)\n",
    "            new_state = tuple(next_env.grid.flatten())\n",
    "            if new_state in self.tree:\n",
    "                v = self.tree[new_state]\n",
    "            else:\n",
    "                v = self.alpha_beta(next_env, alpha=(-np.inf), beta=np.inf, player=False)\n",
    "            utilities.append(v)\n",
    "        i = self.get_index(utilities)\n",
    "        return actions[i]\n",
    "            \n",
    "    def add_to_tree(self, env, v):\n",
    "        \"\"\"Saves seen states and utilities to a dictionary\"\"\"\n",
    "        state = tuple(env.grid.flatten())\n",
    "        self.tree[state] = v\n",
    "    \n",
    "    def alpha_beta(self, env, alpha, beta, player):\n",
    "        \"\"\"Computes minimax policy, through alpha beta pruning,\n",
    "            Seen states are also saved with their utility.\"\"\"\n",
    "        \n",
    "        self.branches += 1 # Branches count.\n",
    "        state = tuple(env.grid.flatten())\n",
    "        \n",
    "        if env.was_winning_move():\n",
    "            if player:\n",
    "                v = -1\n",
    "            else:\n",
    "                v = 1\n",
    "            self.tree[state] = v\n",
    "            return v\n",
    "        elif env.grid_is_full():\n",
    "            v = 0\n",
    "            self.tree[state] = v\n",
    "            return v\n",
    "        elif state in self.tree:\n",
    "            return self.tree[state]\n",
    "        else:\n",
    "            env.change_turn()\n",
    "            actions = env.available_actions\n",
    "            if player:\n",
    "                v = -np.inf\n",
    "                for action in actions:\n",
    "                    current_env = copy.deepcopy(env)\n",
    "                    next_env = self.make_move(current_env, action)\n",
    "                    next_state = tuple(next_env.grid.flatten())\n",
    "                    if state in self.tree:\n",
    "                        v_value = self.tree[next_state]\n",
    "                        v = max(v, v_value)\n",
    "                    else:\n",
    "                        v = max(v, self.alpha_beta(next_env, alpha, beta, False))\n",
    "                    alpha = max(alpha, v)\n",
    "                    if beta <= alpha:\n",
    "                        break\n",
    "                self.add_to_tree(current_env, v)\n",
    "                return v\n",
    "            else:\n",
    "                v = np.inf\n",
    "                for action in actions:\n",
    "                    current_env = copy.deepcopy(env)\n",
    "                    next_env = self.make_move(current_env, action)\n",
    "                    next_state = tuple(next_env.grid.flatten())\n",
    "                    if state in self.tree:\n",
    "                        v_value = self.tree[next_state]\n",
    "                        v = max(v, v_value)\n",
    "                    else:\n",
    "                        v = min(v, self.alpha_beta(next_env, alpha, beta, True))\n",
    "                    beta = min(beta, v)\n",
    "                    if beta <= alpha:\n",
    "                        break\n",
    "                self.add_to_tree(current_env, v)\n",
    "                return v"
   ]
  },
  {
   "cell_type": "code",
   "execution_count": 187,
   "metadata": {
    "scrolled": true
   },
   "outputs": [
    {
     "name": "stdout",
     "output_type": "stream",
     "text": [
      "State value:  -1\n",
      "Number of branches:  4214\n",
      "Elapsed time:  1.447108999996999\n"
     ]
    }
   ],
   "source": [
    "# Run cell to compute state_value and num_branches.\n",
    "t = time.process_time()          \n",
    "env = connect.Connect(verbose=False)\n",
    "env.reset(first_player='o')\n",
    "env.act(action=1)\n",
    "mini = Minimax()\n",
    "state_value = mini.alpha_beta(env, alpha=(-np.inf), beta=np.inf, player=True)\n",
    "num_branches = mini.branches\n",
    "print(\"State value: \", state_value)\n",
    "print(\"Number of branches: \", num_branches)\n",
    "elapsed_time = time.process_time() - t\n",
    "print(\"Elapsed time: \", elapsed_time)"
   ]
  },
  {
   "cell_type": "code",
   "execution_count": null,
   "metadata": {
    "deletable": false,
    "editable": false,
    "nbgrader": {
     "checksum": "0d9e96fd7c7ed9d9081eb564773f199c",
     "grade": true,
     "grade_id": "cell-c31d5222d21dd1d5",
     "locked": true,
     "points": 10,
     "schema_version": 1,
     "solution": false
    }
   },
   "outputs": [],
   "source": [
    "# This is an autograded test cell. Do not delete or change, otherwise you will get \n",
    "# no marks for this part of the assignment. Please make sure that this cell has \n",
    "# access to the variables state_value and num_branches."
   ]
  },
  {
   "cell_type": "markdown",
   "metadata": {},
   "source": [
    "## Part 2B\n",
    "Plot a learning curve similar to the one in Part 1, comparing your Q-learning algorithm, random play, and Minimax play. Assume as before that the opponent always plays first and uses a random policy."
   ]
  },
  {
   "cell_type": "code",
   "execution_count": 189,
   "metadata": {},
   "outputs": [],
   "source": [
    "def policy_minimax(agent, episodes=10):\n",
    "    \"\"\"Function comutes the policies of both minimax policies\"\"\"\n",
    "    \n",
    "    env = connect.Connect(verbose=False)\n",
    "    r_agent = RandomAgent(env) # Random agent to play against\n",
    "    total_reward = [] # Stores saved reward\n",
    "    \n",
    "    for episode in range(0, episodes):\n",
    "        env.reset(first_player='o')\n",
    "        env.act(r_agent.choose_action())\n",
    "        finished = False\n",
    "        while not finished:\n",
    "            state = np.copy(env.grid)\n",
    "            env.change_turn()\n",
    "            action = agent.choose_action(env)\n",
    "            env.act(action)\n",
    "            if env.was_winning_move():\n",
    "                reward = 1\n",
    "                finished = True\n",
    "            elif env.grid_is_full():\n",
    "                reward = 0\n",
    "                finished = True\n",
    "            else:\n",
    "                env.change_turn()\n",
    "                r_action = r_agent.choose_action()\n",
    "                env.act(r_action)\n",
    "                if env.was_winning_move():\n",
    "                    reward = -1\n",
    "                    finished = True\n",
    "                elif env.grid_is_full():\n",
    "                    reward = 0\n",
    "                    finished = True\n",
    "        total_reward.append(reward)\n",
    "    return sum(total_reward)"
   ]
  },
  {
   "cell_type": "code",
   "execution_count": 190,
   "metadata": {
    "deletable": false,
    "nbgrader": {
     "checksum": "f6ed321958b16409ec1935b0fef7aa0d",
     "grade": true,
     "grade_id": "cell-a1d1652414bc7967",
     "locked": false,
     "points": 0,
     "schema_version": 1,
     "solution": true
    },
    "scrolled": true
   },
   "outputs": [],
   "source": [
    "# Cell runs 30 minimax agents.\n",
    "minimax_rewards = []\n",
    "mini = Minimax()\n",
    "for j in range(0, 30):\n",
    "    total_reward = []\n",
    "    for i in range(0, 75):\n",
    "        rewards = policy_minimax(mini)\n",
    "        total_reward.append(rewards)\n",
    "    minimax_rewards.append(total_reward)"
   ]
  },
  {
   "cell_type": "code",
   "execution_count": 191,
   "metadata": {},
   "outputs": [],
   "source": [
    "# Takes output of cell above and averages it.\n",
    "mini_avg_line = []\n",
    "for j in range(0, len(minimax_rewards[1])):\n",
    "    avg = 0\n",
    "    for line in minimax_rewards:\n",
    "        avg += line[j]\n",
    "    avg = avg / len(minimax_rewards)\n",
    "    mini_avg_line.append(avg)"
   ]
  },
  {
   "cell_type": "code",
   "execution_count": 194,
   "metadata": {},
   "outputs": [
    {
     "data": {
      "image/png": "[encoded data removed]",
      "text/plain": [
       "<matplotlib.figure.Figure at 0x12540b828>"
      ]
     },
     "metadata": {},
     "output_type": "display_data"
    }
   ],
   "source": [
    "# Plots the 3 Policies.\n",
    "x = np.arange(0, len(mini_avg_line))\n",
    "plt.plot(x, mini_avg_line, color=\"blue\", label=\"Minimax\")\n",
    "plt.plot(x, q_avg_line, color=\"red\", label=\"Q Agent\")\n",
    "plt.plot(x, r_avg_line, color=\"green\", label=\"Random Agent\")\n",
    "plt.ylabel(\"Average total reward\")\n",
    "plt.xlabel(\"Steps / n\")\n",
    "plt.title(\"Minimax average rewards\")\n",
    "plt.legend()\n",
    "plt.show()"
   ]
  },
  {
   "cell_type": "markdown",
   "metadata": {
    "deletable": false,
    "nbgrader": {
     "checksum": "614920eb9ba438cf5626dd59edc30252",
     "grade": true,
     "grade_id": "cell-1ea89dfffb81a041",
     "locked": false,
     "points": 10,
     "schema_version": 1,
     "solution": true
    }
   },
   "source": [
    "Explain your findings in 3 or fewer sentences. Which policy is better? Why?\n",
    "\n",
    "<img src=\"images/minimaxcompare.png\" style=\"width: 400px;\"/>\n",
    "\n",
    "Initially the minimax agent gets better rewards than the q agent, until the q agent has learnt a certain amount and eventually starts to do better. The issue with the minimax policy is that it plays optimally against an optimal player, as the agent picks moves uniformly at random, the minimax agent is having to play against not what it is expecting, causing the performance of the agent to detoriate. The minimax policy is still able to perform better than a random agent as there is some logic into how it plays, this is why you see the minimax agent having an average total reward of around 4."
   ]
  },
  {
   "cell_type": "markdown",
   "metadata": {},
   "source": [
    "## Part 3\n",
    "\n",
    "Using your algorithm, compute the value of the game for your player (recall: your player goes second against a random opponent). The code cell below should compute this value and assign it to a variable called `optimal_policy_value`."
   ]
  },
  {
   "cell_type": "code",
   "execution_count": 185,
   "metadata": {},
   "outputs": [],
   "source": [
    "class Expecti:\n",
    "    \n",
    "    def __init__(self):\n",
    "        self.branches = -1\n",
    "        self.tree = {}\n",
    "        \n",
    "    def choose_action(self, e):\n",
    "        \"\"\"Chooses an action based on expectiminimax policy\"\"\"\n",
    "        env = copy.deepcopy(e)\n",
    "        actions = env.available_actions\n",
    "        utilities = []\n",
    "        for action in actions:\n",
    "            current_env = copy.deepcopy(env)\n",
    "            next_env = self.make_move(current_env, action)\n",
    "            v = self.expectiminimax(next_env, counter=\"o\",player=\"chance\")\n",
    "            utilities.append(v)\n",
    "        i = np.argmax(utilities)\n",
    "        return actions[i]\n",
    "    \n",
    "    def make_move(self, env, action):\n",
    "        '''Gets next state of the game'''\n",
    "        env.act(action)   \n",
    "        return env\n",
    "    \n",
    "    def expectiminimax(self, env, counter=\"x\", player=\"max\"):\n",
    "        self.branches += 1\n",
    "        state = tuple(env.grid.flatten())\n",
    "        \n",
    "        if env.was_winning_move():\n",
    "            if player == \"chance\":\n",
    "                v = 1\n",
    "            else:\n",
    "                v = -1\n",
    "            self.tree[state] = v\n",
    "            return v \n",
    "        elif env.grid_is_full():\n",
    "            v = 0\n",
    "            self.tree[state] = v\n",
    "            return v\n",
    "        elif state in self.tree:\n",
    "            return self.tree[state]\n",
    "        else:\n",
    "            if counter == \"x\":\n",
    "                counter = \"o\"\n",
    "            else:\n",
    "                counter = 'x'\n",
    "            env.change_turn()\n",
    "            actions = env.available_actions\n",
    "            if player == \"max\":\n",
    "                v = -np.inf\n",
    "                for action in actions:\n",
    "                    current_env = copy.deepcopy(env)\n",
    "                    next_env = self.make_move(current_env, action)\n",
    "                    v = max(v, self.expectiminimax(next_env, counter, player=\"chance\"))\n",
    "            else:\n",
    "                v = 0\n",
    "                prob_of_actions = (1 / len(actions))\n",
    "                for action in actions:\n",
    "                    current_env = copy.deepcopy(env)\n",
    "                    next_env = self.make_move(current_env, action)\n",
    "                    if state in self.tree:\n",
    "                        new_state = tuple(next_env.grid.flatten())\n",
    "                        v_state = self.tree[state]\n",
    "                        v += prob_of_actions * v_state\n",
    "                    else:\n",
    "                        v = v + (prob_of_actions * self.expectiminimax(next_env, counter, player=\"max\"))\n",
    "            self.tree[state] = v\n",
    "            return v"
   ]
  },
  {
   "cell_type": "code",
   "execution_count": 184,
   "metadata": {
    "deletable": false,
    "nbgrader": {
     "checksum": "d7e4093f906a825959634f4ee6e6845f",
     "grade": false,
     "grade_id": "cell-a28f4f38b5cc6619",
     "locked": false,
     "schema_version": 1,
     "solution": true
    }
   },
   "outputs": [
    {
     "name": "stdout",
     "output_type": "stream",
     "text": [
      "Optimal policy value:  0.9775555555555557\n",
      "Elapsed time:  15.463299999999435\n"
     ]
    }
   ],
   "source": [
    "# Run cell to get expectiminimax optimal state value.\n",
    "t = time.process_time()          \n",
    "env = connect.Connect(verbose=False)\n",
    "env.reset(first_player='o')\n",
    "env.act(action=1)\n",
    "ex = Expecti()\n",
    "optimal_policy_value = ex.expectiminimax(env)\n",
    "print(\"Optimal policy value: \", optimal_policy_value)\n",
    "elapsed_time = time.process_time() - t\n",
    "print(\"Elapsed time: \", elapsed_time)\n",
    "\n",
    "# optimal_policy_value = ..."
   ]
  },
  {
   "cell_type": "code",
   "execution_count": 180,
   "metadata": {},
   "outputs": [],
   "source": [
    "expectiminimax_rewards = []\n",
    "ex = Expecti()\n",
    "for j in range(0, 30):\n",
    "    total_reward = []\n",
    "    for i in range(0, 75):\n",
    "        rewards = policy_minimax(ex)\n",
    "        total_reward.append(rewards)\n",
    "    expectiminimax_rewards.append(total_reward)"
   ]
  },
  {
   "cell_type": "code",
   "execution_count": 181,
   "metadata": {},
   "outputs": [],
   "source": [
    "# Takes output of cell above and averages it.\n",
    "exmini_avg_line = []\n",
    "for j in range(0, len(expectiminimax_rewards[1])):\n",
    "    avg = 0\n",
    "    for line in expectiminimax_rewards:\n",
    "        avg += line[j]\n",
    "    avg = avg / len(expectiminimax_rewards)\n",
    "    exmini_avg_line.append(avg)"
   ]
  },
  {
   "cell_type": "code",
   "execution_count": 195,
   "metadata": {},
   "outputs": [
    {
     "data": {
      "image/png": "[encoded data removed]",
      "text/plain": [
       "<matplotlib.figure.Figure at 0x126ae0860>"
      ]
     },
     "metadata": {},
     "output_type": "display_data"
    }
   ],
   "source": [
    "# Plots the 4 Policies.\n",
    "x = np.arange(0, len(mini_avg_line))\n",
    "plt.plot(x, mini_avg_line, color=\"blue\", label=\"Minimax\")\n",
    "plt.plot(x, q_avg_line, color=\"red\", label=\"Q Agent\")\n",
    "plt.plot(x, r_avg_line, color=\"green\", label=\"Random Agent\")\n",
    "plt.plot(x, exmini_avg_line, color=\"purple\", label=\"Expectiminimax\")\n",
    "plt.ylabel(\"Average total reward\")\n",
    "plt.xlabel(\"Steps / n\")\n",
    "plt.title(\"Comparison of all four policies\")\n",
    "plt.legend()\n",
    "plt.show()"
   ]
  },
  {
   "cell_type": "markdown",
   "metadata": {},
   "source": [
    "<img src=\"images/expecticompare.png\" style=\"width: 400px;\"/>\n",
    "\n",
    "The expectiminimax has the best policy out of the ones tested. This is because it takes into consideration the randomness of the random agent, so it is able to model its moves better than the minimax agent was."
   ]
  },
  {
   "cell_type": "code",
   "execution_count": null,
   "metadata": {
    "deletable": false,
    "editable": false,
    "nbgrader": {
     "checksum": "b3a945d86dc159320c257d69389cf765",
     "grade": true,
     "grade_id": "cell-1e0341a7a580c299",
     "locked": true,
     "points": 10,
     "schema_version": 1,
     "solution": false
    }
   },
   "outputs": [],
   "source": [
    "# This is an autograded test cell. Do not delete or change, otherwise you will get \n",
    "# no marks for this part of the assignment. Please make sure that this cell has \n",
    "# access to the variable optimal_policy_value."
   ]
  }
 ],
 "metadata": {
  "kernelspec": {
   "display_name": "Python 3",
   "language": "python",
   "name": "python3"
  },
  "language_info": {
   "codemirror_mode": {
    "name": "ipython",
    "version": 3
   },
   "file_extension": ".py",
   "mimetype": "text/x-python",
   "name": "python",
   "nbconvert_exporter": "python",
   "pygments_lexer": "ipython3",
   "version": "3.6.4"
  }
 },
 "nbformat": 4,
 "nbformat_minor": 2
}
